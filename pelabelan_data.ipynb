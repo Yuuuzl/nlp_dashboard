{
 "cells": [
  {
   "cell_type": "code",
   "execution_count": 118,
   "metadata": {},
   "outputs": [
    {
     "data": {
      "text/html": [
       "<div>\n",
       "<style scoped>\n",
       "    .dataframe tbody tr th:only-of-type {\n",
       "        vertical-align: middle;\n",
       "    }\n",
       "\n",
       "    .dataframe tbody tr th {\n",
       "        vertical-align: top;\n",
       "    }\n",
       "\n",
       "    .dataframe thead th {\n",
       "        text-align: right;\n",
       "    }\n",
       "</style>\n",
       "<table border=\"1\" class=\"dataframe\">\n",
       "  <thead>\n",
       "    <tr style=\"text-align: right;\">\n",
       "      <th></th>\n",
       "      <th>textDisplay</th>\n",
       "      <th>cleaned_text</th>\n",
       "      <th>Tokenization dan Case Folding</th>\n",
       "      <th>Filtering atau Stopword Removal</th>\n",
       "      <th>stemming_data</th>\n",
       "    </tr>\n",
       "  </thead>\n",
       "  <tbody>\n",
       "    <tr>\n",
       "      <th>0</th>\n",
       "      <td>Kesal Sedih kecewa jadi satu!!!&lt;br&gt;Gimana pert...</td>\n",
       "      <td>Kesal Sedih kecewa jadi satuGimana pertandinga...</td>\n",
       "      <td>['kesal', 'sedih', 'kecewa', 'jadi', 'satugima...</td>\n",
       "      <td>['kesal', 'sedih', 'kecewa', 'satugimana', 'pe...</td>\n",
       "      <td>kesal sedih kecewa satugimana tanding</td>\n",
       "    </tr>\n",
       "    <tr>\n",
       "      <th>1</th>\n",
       "      <td>Kesel ma wasit gua 😏</td>\n",
       "      <td>Kesel ma wasit gua</td>\n",
       "      <td>['kesel', 'ma', 'wasit', 'gua']</td>\n",
       "      <td>['kesel', 'ma', 'wasit', 'gua']</td>\n",
       "      <td>kesel ma wasit gua</td>\n",
       "    </tr>\n",
       "    <tr>\n",
       "      <th>2</th>\n",
       "      <td>Saitama lagi.....saitama lagi....</td>\n",
       "      <td>Saitama lagisaitama lagi</td>\n",
       "      <td>['saitama', 'lagisaitama', 'lagi']</td>\n",
       "      <td>['saitama', 'lagisaitama']</td>\n",
       "      <td>saitama lagisaitama</td>\n",
       "    </tr>\n",
       "    <tr>\n",
       "      <th>3</th>\n",
       "      <td>Wasit pendo</td>\n",
       "      <td>Wasit pendo</td>\n",
       "      <td>['wasit', 'pendo']</td>\n",
       "      <td>['wasit', 'pendo']</td>\n",
       "      <td>wasit pendo</td>\n",
       "    </tr>\n",
       "  </tbody>\n",
       "</table>\n",
       "</div>"
      ],
      "text/plain": [
       "                                         textDisplay  \\\n",
       "0  Kesal Sedih kecewa jadi satu!!!<br>Gimana pert...   \n",
       "1                               Kesel ma wasit gua 😏   \n",
       "2                  Saitama lagi.....saitama lagi....   \n",
       "3                                        Wasit pendo   \n",
       "\n",
       "                                        cleaned_text  \\\n",
       "0  Kesal Sedih kecewa jadi satuGimana pertandinga...   \n",
       "1                                Kesel ma wasit gua    \n",
       "2                           Saitama lagisaitama lagi   \n",
       "3                                        Wasit pendo   \n",
       "\n",
       "                       Tokenization dan Case Folding  \\\n",
       "0  ['kesal', 'sedih', 'kecewa', 'jadi', 'satugima...   \n",
       "1                    ['kesel', 'ma', 'wasit', 'gua']   \n",
       "2                 ['saitama', 'lagisaitama', 'lagi']   \n",
       "3                                 ['wasit', 'pendo']   \n",
       "\n",
       "                     Filtering atau Stopword Removal  \\\n",
       "0  ['kesal', 'sedih', 'kecewa', 'satugimana', 'pe...   \n",
       "1                    ['kesel', 'ma', 'wasit', 'gua']   \n",
       "2                         ['saitama', 'lagisaitama']   \n",
       "3                                 ['wasit', 'pendo']   \n",
       "\n",
       "                           stemming_data  \n",
       "0  kesal sedih kecewa satugimana tanding  \n",
       "1                     kesel ma wasit gua  \n",
       "2                    saitama lagisaitama  \n",
       "3                            wasit pendo  "
      ]
     },
     "execution_count": 118,
     "metadata": {},
     "output_type": "execute_result"
    }
   ],
   "source": [
    "import pandas as pd\n",
    "import numpy as np \n",
    "\n",
    "def load_data():\n",
    "    data = pd.read_csv('preprocessed_youtube_comments.csv')\n",
    "    return data\n",
    "\n",
    "data = load_data()\n",
    "data.head(4)"
   ]
  },
  {
   "cell_type": "code",
   "execution_count": 119,
   "metadata": {},
   "outputs": [
    {
     "name": "stdout",
     "output_type": "stream",
     "text": [
      "<class 'pandas.core.frame.DataFrame'>\n",
      "RangeIndex: 12255 entries, 0 to 12254\n",
      "Data columns (total 5 columns):\n",
      " #   Column                           Non-Null Count  Dtype \n",
      "---  ------                           --------------  ----- \n",
      " 0   textDisplay                      12254 non-null  object\n",
      " 1   cleaned_text                     12253 non-null  object\n",
      " 2   Tokenization dan Case Folding    12255 non-null  object\n",
      " 3   Filtering atau Stopword Removal  12255 non-null  object\n",
      " 4   stemming_data                    12253 non-null  object\n",
      "dtypes: object(5)\n",
      "memory usage: 478.8+ KB\n"
     ]
    }
   ],
   "source": [
    "data.info()"
   ]
  },
  {
   "cell_type": "code",
   "execution_count": 136,
   "metadata": {},
   "outputs": [
    {
     "data": {
      "text/html": [
       "<div>\n",
       "<style scoped>\n",
       "    .dataframe tbody tr th:only-of-type {\n",
       "        vertical-align: middle;\n",
       "    }\n",
       "\n",
       "    .dataframe tbody tr th {\n",
       "        vertical-align: top;\n",
       "    }\n",
       "\n",
       "    .dataframe thead th {\n",
       "        text-align: right;\n",
       "    }\n",
       "</style>\n",
       "<table border=\"1\" class=\"dataframe\">\n",
       "  <thead>\n",
       "    <tr style=\"text-align: right;\">\n",
       "      <th></th>\n",
       "      <th>stemming_data</th>\n",
       "    </tr>\n",
       "  </thead>\n",
       "  <tbody>\n",
       "    <tr>\n",
       "      <th>0</th>\n",
       "      <td>kesal sedih kecewa satugimana tanding</td>\n",
       "    </tr>\n",
       "    <tr>\n",
       "      <th>1</th>\n",
       "      <td>kesel ma wasit gua</td>\n",
       "    </tr>\n",
       "    <tr>\n",
       "      <th>2</th>\n",
       "      <td>saitama lagisaitama</td>\n",
       "    </tr>\n",
       "    <tr>\n",
       "      <th>3</th>\n",
       "      <td>wasit pendo</td>\n",
       "    </tr>\n",
       "    <tr>\n",
       "      <th>4</th>\n",
       "      <td>cuk nan</td>\n",
       "    </tr>\n",
       "  </tbody>\n",
       "</table>\n",
       "</div>"
      ],
      "text/plain": [
       "                           stemming_data\n",
       "0  kesal sedih kecewa satugimana tanding\n",
       "1                     kesel ma wasit gua\n",
       "2                    saitama lagisaitama\n",
       "3                            wasit pendo\n",
       "4                                cuk nan"
      ]
     },
     "execution_count": 136,
     "metadata": {},
     "output_type": "execute_result"
    }
   ],
   "source": [
    "df = pd.DataFrame(data['stemming_data'])\n",
    "df.head(5)"
   ]
  },
  {
   "cell_type": "code",
   "execution_count": 137,
   "metadata": {},
   "outputs": [
    {
     "name": "stdout",
     "output_type": "stream",
     "text": [
      "<class 'pandas.core.frame.DataFrame'>\n",
      "RangeIndex: 12255 entries, 0 to 12254\n",
      "Data columns (total 1 columns):\n",
      " #   Column         Non-Null Count  Dtype \n",
      "---  ------         --------------  ----- \n",
      " 0   stemming_data  12253 non-null  object\n",
      "dtypes: object(1)\n",
      "memory usage: 95.9+ KB\n"
     ]
    }
   ],
   "source": [
    "df.info()\n"
   ]
  },
  {
   "cell_type": "code",
   "execution_count": 138,
   "metadata": {},
   "outputs": [
    {
     "name": "stdout",
     "output_type": "stream",
     "text": [
      "Requirement already satisfied: nltk in c:\\streamlit\\wahyuenv\\lib\\site-packages (3.9.1)\n",
      "Requirement already satisfied: click in c:\\streamlit\\wahyuenv\\lib\\site-packages (from nltk) (8.1.7)\n",
      "Requirement already satisfied: joblib in c:\\streamlit\\wahyuenv\\lib\\site-packages (from nltk) (1.4.2)\n",
      "Requirement already satisfied: regex>=2021.8.3 in c:\\streamlit\\wahyuenv\\lib\\site-packages (from nltk) (2024.9.11)\n",
      "Requirement already satisfied: tqdm in c:\\streamlit\\wahyuenv\\lib\\site-packages (from nltk) (4.66.5)\n",
      "Requirement already satisfied: colorama in c:\\streamlit\\wahyuenv\\lib\\site-packages (from click->nltk) (0.4.6)\n"
     ]
    },
    {
     "name": "stderr",
     "output_type": "stream",
     "text": [
      "[nltk_data] Downloading package punkt to\n",
      "[nltk_data]     C:\\Users\\wahyu\\AppData\\Roaming\\nltk_data...\n",
      "[nltk_data]   Package punkt is already up-to-date!\n",
      "[nltk_data] Downloading package vader_lexicon to\n",
      "[nltk_data]     C:\\Users\\wahyu\\AppData\\Roaming\\nltk_data...\n",
      "[nltk_data]   Package vader_lexicon is already up-to-date!\n"
     ]
    },
    {
     "data": {
      "text/plain": [
       "True"
      ]
     },
     "execution_count": 138,
     "metadata": {},
     "output_type": "execute_result"
    }
   ],
   "source": [
    "!pip install nltk\n",
    "import nltk\n",
    "from nltk.sentiment.vader import SentimentIntensityAnalyzer\n",
    "import pandas as pd\n",
    "\n",
    "nltk.download('punkt')\n",
    "nltk.download('vader_lexicon')"
   ]
  },
  {
   "cell_type": "code",
   "execution_count": 141,
   "metadata": {},
   "outputs": [
    {
     "data": {
      "text/html": [
       "<div>\n",
       "<style scoped>\n",
       "    .dataframe tbody tr th:only-of-type {\n",
       "        vertical-align: middle;\n",
       "    }\n",
       "\n",
       "    .dataframe tbody tr th {\n",
       "        vertical-align: top;\n",
       "    }\n",
       "\n",
       "    .dataframe thead th {\n",
       "        text-align: right;\n",
       "    }\n",
       "</style>\n",
       "<table border=\"1\" class=\"dataframe\">\n",
       "  <thead>\n",
       "    <tr style=\"text-align: right;\">\n",
       "      <th></th>\n",
       "      <th>stemming_data</th>\n",
       "      <th>sentiment_score</th>\n",
       "      <th>sentiment</th>\n",
       "    </tr>\n",
       "  </thead>\n",
       "  <tbody>\n",
       "    <tr>\n",
       "      <th>0</th>\n",
       "      <td>kesal sedih kecewa satugimana tanding</td>\n",
       "      <td>0.0000</td>\n",
       "      <td>Netral</td>\n",
       "    </tr>\n",
       "    <tr>\n",
       "      <th>1</th>\n",
       "      <td>kesel ma wasit gua</td>\n",
       "      <td>0.0000</td>\n",
       "      <td>Netral</td>\n",
       "    </tr>\n",
       "    <tr>\n",
       "      <th>2</th>\n",
       "      <td>saitama lagisaitama</td>\n",
       "      <td>0.0000</td>\n",
       "      <td>Netral</td>\n",
       "    </tr>\n",
       "    <tr>\n",
       "      <th>3</th>\n",
       "      <td>wasit pendo</td>\n",
       "      <td>0.0000</td>\n",
       "      <td>Netral</td>\n",
       "    </tr>\n",
       "    <tr>\n",
       "      <th>4</th>\n",
       "      <td>cuk nan</td>\n",
       "      <td>0.0000</td>\n",
       "      <td>Netral</td>\n",
       "    </tr>\n",
       "    <tr>\n",
       "      <th>...</th>\n",
       "      <td>...</td>\n",
       "      <td>...</td>\n",
       "      <td>...</td>\n",
       "    </tr>\n",
       "    <tr>\n",
       "      <th>995</th>\n",
       "      <td>menit bola selesai tanding</td>\n",
       "      <td>0.0000</td>\n",
       "      <td>Netral</td>\n",
       "    </tr>\n",
       "    <tr>\n",
       "      <th>996</th>\n",
       "      <td>hahaha bahrin g merinding emg klo main gbk lia...</td>\n",
       "      <td>0.5574</td>\n",
       "      <td>Positif</td>\n",
       "    </tr>\n",
       "    <tr>\n",
       "      <th>997</th>\n",
       "      <td>mental main lokal buruk witan menit tenang oper</td>\n",
       "      <td>0.0000</td>\n",
       "      <td>Netral</td>\n",
       "    </tr>\n",
       "    <tr>\n",
       "      <th>998</th>\n",
       "      <td>stuju</td>\n",
       "      <td>0.0000</td>\n",
       "      <td>Netral</td>\n",
       "    </tr>\n",
       "    <tr>\n",
       "      <th>999</th>\n",
       "      <td>indo ken menang pake baju merah</td>\n",
       "      <td>0.0000</td>\n",
       "      <td>Netral</td>\n",
       "    </tr>\n",
       "  </tbody>\n",
       "</table>\n",
       "<p>1000 rows × 3 columns</p>\n",
       "</div>"
      ],
      "text/plain": [
       "                                         stemming_data  sentiment_score  \\\n",
       "0                kesal sedih kecewa satugimana tanding           0.0000   \n",
       "1                                   kesel ma wasit gua           0.0000   \n",
       "2                                  saitama lagisaitama           0.0000   \n",
       "3                                          wasit pendo           0.0000   \n",
       "4                                              cuk nan           0.0000   \n",
       "..                                                 ...              ...   \n",
       "995                         menit bola selesai tanding           0.0000   \n",
       "996  hahaha bahrin g merinding emg klo main gbk lia...           0.5574   \n",
       "997    mental main lokal buruk witan menit tenang oper           0.0000   \n",
       "998                                              stuju           0.0000   \n",
       "999                    indo ken menang pake baju merah           0.0000   \n",
       "\n",
       "    sentiment  \n",
       "0      Netral  \n",
       "1      Netral  \n",
       "2      Netral  \n",
       "3      Netral  \n",
       "4      Netral  \n",
       "..        ...  \n",
       "995    Netral  \n",
       "996   Positif  \n",
       "997    Netral  \n",
       "998    Netral  \n",
       "999    Netral  \n",
       "\n",
       "[1000 rows x 3 columns]"
      ]
     },
     "execution_count": 141,
     "metadata": {},
     "output_type": "execute_result"
    }
   ],
   "source": [
    "import pandas as pd\n",
    "from nltk.sentiment import SentimentIntensityAnalyzer\n",
    "\n",
    "# Memastikan bahwa tidak ada nilai NaN di kolom 'stemming_data'\n",
    "df['stemming_data'] = df['stemming_data'].fillna('')  # Mengganti NaN dengan string kosong\n",
    "\n",
    "# Inisialisasi VADER SentimentIntensityAnalyzer\n",
    "data = SentimentIntensityAnalyzer()\n",
    "\n",
    "# List untuk menyimpan label sentimen dan skor\n",
    "labels = []\n",
    "scores = []\n",
    "\n",
    "# Analisis sentimen untuk setiap teks di kolom 'stemming_data'\n",
    "for text in df['stemming_data']:\n",
    "    sentiment_scores = data.polarity_scores(text)\n",
    "    compound_score = sentiment_scores['compound']\n",
    "\n",
    "    scores.append(compound_score)\n",
    "\n",
    "    if compound_score > 0:\n",
    "        labels.append('Positif')\n",
    "    elif compound_score < 0:\n",
    "        labels.append('Negatif')\n",
    "    else:\n",
    "        labels.append('Netral')\n",
    "\n",
    "# Menambahkan hasil sentimen ke DataFrame\n",
    "df['sentiment'] = labels\n",
    "df['sentiment_score'] = scores\n",
    "\n",
    "# Pilih kolom yang diinginkan\n",
    "data = ['stemming_data', 'sentiment_score', 'sentiment']\n",
    "data = df[data]\n",
    "\n",
    "# Menampilkan 1000 baris pertama dari data\n",
    "data.head(1000)\n"
   ]
  },
  {
   "cell_type": "code",
   "execution_count": 142,
   "metadata": {},
   "outputs": [
    {
     "name": "stderr",
     "output_type": "stream",
     "text": [
      "C:\\Users\\wahyu\\AppData\\Local\\Temp\\ipykernel_15572\\4155746653.py:10: FutureWarning: \n",
      "\n",
      "Passing `palette` without assigning `hue` is deprecated and will be removed in v0.14.0. Assign the `x` variable to `hue` and set `legend=False` for the same effect.\n",
      "\n",
      "  ax = sns.barplot(x=sentiment_count.index, y=sentiment_count.values, palette='pastel')\n"
     ]
    },
    {
     "data": {
      "image/png": "[encoded data removed]",
      "text/plain": [
       "<Figure size 1000x600 with 1 Axes>"
      ]
     },
     "metadata": {},
     "output_type": "display_data"
    }
   ],
   "source": [
    "import pandas as pd\n",
    "import matplotlib.pyplot as plt\n",
    "import seaborn as sns\n",
    "\n",
    "sentiment_count = data['sentiment'].value_counts()\n",
    "\n",
    "sns.set_style('whitegrid')\n",
    "\n",
    "fig, ax = plt.subplots(figsize=(10, 6))\n",
    "ax = sns.barplot(x=sentiment_count.index, y=sentiment_count.values, palette='pastel')\n",
    "plt.title('Jumlah Analisis Sentimen', fontsize=14, pad=20)\n",
    "plt.xlabel('Class Sentiment', fontsize=12)\n",
    "plt.ylabel('Jumlah Tweet', fontsize=12)\n",
    "\n",
    "for i, count in enumerate(sentiment_count.values):\n",
    "    ax.text(i, count + 0.10, str(count), ha='center', va='bottom')\n",
    "\n",
    "plt.show()"
   ]
  },
  {
   "cell_type": "code",
   "execution_count": 144,
   "metadata": {},
   "outputs": [],
   "source": [
    "data.to_csv('hasil_pelabelan.csv', encoding='utf8', index=False)"
   ]
  }
 ],
 "metadata": {
  "kernelspec": {
   "display_name": "wahyuenv",
   "language": "python",
   "name": "python3"
  },
  "language_info": {
   "codemirror_mode": {
    "name": "ipython",
    "version": 3
   },
   "file_extension": ".py",
   "mimetype": "text/x-python",
   "name": "python",
   "nbconvert_exporter": "python",
   "pygments_lexer": "ipython3",
   "version": "3.12.5"
  }
 },
 "nbformat": 4,
 "nbformat_minor": 2
}
